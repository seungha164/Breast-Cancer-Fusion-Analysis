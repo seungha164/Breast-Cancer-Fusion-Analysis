{
 "cells": [
  {
   "cell_type": "code",
   "execution_count": 16,
   "metadata": {},
   "outputs": [],
   "source": [
    "import os\n",
    "from glob import glob\n",
    "import cv2\n",
    "import numpy as np\n",
    "import shutil\n",
    "from tqdm import tqdm"
   ]
  },
  {
   "cell_type": "markdown",
   "metadata": {},
   "source": [
    "#### img"
   ]
  },
  {
   "cell_type": "code",
   "execution_count": 23,
   "metadata": {},
   "outputs": [],
   "source": [
    "p = '/home/nute11a/nfs_server/dataset/original/Ultrasound/TDSC-ABUS2023/2D/imagesTr_png'\n",
    "savep_img = '/home/nute11a/nfs_server/dataset/BreastCancer_US/TDSC-ABUS2023/imagesTr'\n",
    "savep_seg = '/home/nute11a/nfs_server/dataset/BreastCancer_US/TDSC-ABUS2023/labelsTr'\n",
    "os.makedirs(savep_img, exist_ok=True)\n",
    "os.makedirs(savep_seg, exist_ok=True)"
   ]
  },
  {
   "cell_type": "code",
   "execution_count": 28,
   "metadata": {},
   "outputs": [
    {
     "name": "stderr",
     "output_type": "stream",
     "text": [
      "  0%|          | 0/2547 [00:00<?, ?it/s]"
     ]
    },
    {
     "name": "stderr",
     "output_type": "stream",
     "text": [
      "100%|██████████| 2547/2547 [00:06<00:00, 405.50it/s]\n"
     ]
    }
   ],
   "source": [
    "for img in tqdm(glob(f\"{p}/*/*\")):\n",
    "    llr = img.split('/')\n",
    "    savename = f\"{llr[-2].replace('DATA_', '')}_{llr[-1]}\"\n",
    "    shutil.copy(img, f\"{savep_img}/{savename}\")\n",
    "    #print(img)\n",
    "    labels = glob(img.replace('imagesTr_png', 'labelsTr_png').replace('.png', '_*'))\n",
    "    if len(labels) == 1:\n",
    "        shutil.copy(labels[0], f\"{savep_seg}/{savename}\")\n",
    "    else:\n",
    "        for idx, seg in enumerate(labels):\n",
    "            if idx == 0:    mask = cv2.imread(seg)\n",
    "            else:           mask = np.logical_or(mask, cv2.imread(seg)).astype(np.int8) * 255\n",
    "        cv2.imwrite(f\"{savep_seg}/{savename}\", mask)"
   ]
  },
  {
   "cell_type": "markdown",
   "metadata": {},
   "source": [
    "#### mask"
   ]
  },
  {
   "cell_type": "code",
   "execution_count": 32,
   "metadata": {},
   "outputs": [
    {
     "name": "stdout",
     "output_type": "stream",
     "text": [
      "images : 2547\n",
      "labels : 2547\n"
     ]
    }
   ],
   "source": [
    "print(f'images : {len(os.listdir(savep_img))}')\n",
    "print(f'labels : {len(os.listdir(savep_seg))}')"
   ]
  }
 ],
 "metadata": {
  "kernelspec": {
   "display_name": "senv",
   "language": "python",
   "name": "python3"
  },
  "language_info": {
   "codemirror_mode": {
    "name": "ipython",
    "version": 3
   },
   "file_extension": ".py",
   "mimetype": "text/x-python",
   "name": "python",
   "nbconvert_exporter": "python",
   "pygments_lexer": "ipython3",
   "version": "3.10.12"
  }
 },
 "nbformat": 4,
 "nbformat_minor": 2
}
